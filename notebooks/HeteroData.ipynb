{
 "cells": [
  {
   "cell_type": "code",
   "execution_count": 1,
   "id": "01557b48",
   "metadata": {},
   "outputs": [
    {
     "name": "stderr",
     "output_type": "stream",
     "text": [
      "/opt/homebrew/Caskroom/miniconda/base/envs/deep/lib/python3.10/site-packages/tqdm/auto.py:21: TqdmWarning: IProgress not found. Please update jupyter and ipywidgets. See https://ipywidgets.readthedocs.io/en/stable/user_install.html\n",
      "  from .autonotebook import tqdm as notebook_tqdm\n"
     ]
    }
   ],
   "source": [
    "import torch\n",
    "import pandas as pd\n",
    "from torch_geometric.data import HeteroData\n",
    "from torch_geometric.datasets import OGB_MAG\n",
    "from torch_geometric.nn import MetaPath2Vec, Node2Vec, GCNConv\n",
    "import itertools\n",
    "import numpy as np"
   ]
  },
  {
   "cell_type": "code",
   "execution_count": 2,
   "id": "8e54aa70",
   "metadata": {},
   "outputs": [],
   "source": [
    "dataset = OGB_MAG(root='./data', preprocess='metapath2vec')\n",
    "#print(dataset[0])\n",
    "#print(dataset[0]['paper'])\n",
    "dataset2 = OGB_MAG(root='./data')\n",
    "#print(dataset2[0])\n",
    "#print(dataset2[0]['paper'])"
   ]
  },
  {
   "cell_type": "code",
   "execution_count": 3,
   "id": "1fa9f606",
   "metadata": {},
   "outputs": [
    {
     "data": {
      "text/plain": [
       "tensor([[-0.0954,  0.0408, -0.2109,  ...,  0.0616, -0.0277, -0.1338],\n",
       "        [-0.1510, -0.1073, -0.2220,  ...,  0.3458, -0.0277, -0.2185],\n",
       "        [-0.1148, -0.1760, -0.2606,  ...,  0.1731, -0.1564, -0.2780],\n",
       "        ...,\n",
       "        [ 0.0228, -0.0865,  0.0981,  ..., -0.0547, -0.2077, -0.2305],\n",
       "        [-0.2891, -0.2029, -0.1525,  ...,  0.1042,  0.2041, -0.3528],\n",
       "        [-0.0890, -0.0348, -0.2642,  ...,  0.2601, -0.0875, -0.5171]])"
      ]
     },
     "execution_count": 3,
     "metadata": {},
     "output_type": "execute_result"
    }
   ],
   "source": [
    "dataset2[0]['paper'].x"
   ]
  },
  {
   "cell_type": "code",
   "execution_count": 4,
   "id": "e42dd9e2",
   "metadata": {},
   "outputs": [],
   "source": [
    "#type(dataset2[0]['paper'])\n",
    "data = HeteroData()\n",
    "df = pd.read_csv('../data/03_primary/prokka_edges.csv')\n",
    "bins = pd.read_csv('../data/bins.txt',header=None).values.flatten()"
   ]
  },
  {
   "cell_type": "code",
   "execution_count": 5,
   "id": "38986a7f",
   "metadata": {},
   "outputs": [],
   "source": [
    "sample_bins = {'control':[],'low':[],'high':[]}\n",
    "_ = [sample_bins[x[:x.find('.')]].append('b' + str(x)) for x in bins]\n",
    "bintobin = []\n",
    "for sbin in sample_bins.values():\n",
    "    edges = list(itertools.combinations(sbin,2))\n",
    "    bintobin.extend(edges)\n",
    "bintobin = pd.DataFrame(bintobin,columns = df.columns)"
   ]
  },
  {
   "cell_type": "code",
   "execution_count": 6,
   "id": "3c196632",
   "metadata": {},
   "outputs": [],
   "source": [
    "all_nodes = set(df.values.flatten())\n",
    "gene_nodes = [x for x in all_nodes if 'g' == x[0]]\n",
    "bin_nodes = [x for x in all_nodes if 'b' == x[0]]"
   ]
  },
  {
   "cell_type": "code",
   "execution_count": 7,
   "id": "84dee77e",
   "metadata": {},
   "outputs": [
    {
     "name": "stdout",
     "output_type": "stream",
     "text": [
      "0    gLFGNBLFH_01163,gLFGNBLFH_01164,gLFGNBLFH_0133...\n",
      "1                                      gIJJIKKFE_00150\n",
      "2                                      gLLBELMJL_00547\n",
      "3                                      gJKDGBJBC_02872\n",
      "4                                      gAPBJIOEJ_00866\n",
      "dtype: object\n"
     ]
    },
    {
     "data": {
      "text/html": [
       "<div>\n",
       "<style scoped>\n",
       "    .dataframe tbody tr th:only-of-type {\n",
       "        vertical-align: middle;\n",
       "    }\n",
       "\n",
       "    .dataframe tbody tr th {\n",
       "        vertical-align: top;\n",
       "    }\n",
       "\n",
       "    .dataframe thead th {\n",
       "        text-align: right;\n",
       "    }\n",
       "</style>\n",
       "<table border=\"1\" class=\"dataframe\">\n",
       "  <thead>\n",
       "    <tr style=\"text-align: right;\">\n",
       "      <th></th>\n",
       "      <th>node1</th>\n",
       "      <th>node2</th>\n",
       "    </tr>\n",
       "  </thead>\n",
       "  <tbody>\n",
       "    <tr>\n",
       "      <th>0</th>\n",
       "      <td>bcontrol.003</td>\n",
       "      <td>gGCPGMBNG_00019</td>\n",
       "    </tr>\n",
       "    <tr>\n",
       "      <th>1</th>\n",
       "      <td>bcontrol.005</td>\n",
       "      <td>gBMCFIPLP_00068,gBMCFIPLP_00776</td>\n",
       "    </tr>\n",
       "    <tr>\n",
       "      <th>2</th>\n",
       "      <td>bcontrol.008</td>\n",
       "      <td>gPFAMOPBP_00086,gPFAMOPBP_00216</td>\n",
       "    </tr>\n",
       "    <tr>\n",
       "      <th>3</th>\n",
       "      <td>bcontrol.013</td>\n",
       "      <td>gLFGLNBED_00481</td>\n",
       "    </tr>\n",
       "    <tr>\n",
       "      <th>4</th>\n",
       "      <td>bhigh.005</td>\n",
       "      <td>gIAHGPBAK_01170</td>\n",
       "    </tr>\n",
       "  </tbody>\n",
       "</table>\n",
       "</div>"
      ],
      "text/plain": [
       "          node1                            node2\n",
       "0  bcontrol.003                  gGCPGMBNG_00019\n",
       "1  bcontrol.005  gBMCFIPLP_00068,gBMCFIPLP_00776\n",
       "2  bcontrol.008  gPFAMOPBP_00086,gPFAMOPBP_00216\n",
       "3  bcontrol.013                  gLFGLNBED_00481\n",
       "4     bhigh.005                  gIAHGPBAK_01170"
      ]
     },
     "execution_count": 7,
     "metadata": {},
     "output_type": "execute_result"
    }
   ],
   "source": [
    "node_ids = pd.Series(list(all_nodes))\n",
    "#data['gene'].x = torch.Tensor(gene_nodes)\n",
    "#data['bin'].x = torch.Tensor(bin_nodes)\n",
    "print(node_ids.head())\n",
    "df.head()"
   ]
  },
  {
   "cell_type": "code",
   "execution_count": 53,
   "id": "fbf8a738",
   "metadata": {},
   "outputs": [
    {
     "data": {
      "text/plain": [
       "tensor([[      0,       1,       2,  ..., 1134645, 1134647, 1134648],\n",
       "        [    845,     996,    3197,  ...,    5189,    4668,    4668]])"
      ]
     },
     "execution_count": 53,
     "metadata": {},
     "output_type": "execute_result"
    }
   ],
   "source": [
    "#dataset2[0].edge_index_dict[('author','writes','paper')]\n",
    "#dataset2[0].edge_items()\n",
    "dataset2[0].edge_items()[0][1]['edge_index']"
   ]
  }
 ],
 "metadata": {
  "kernelspec": {
   "display_name": "deep",
   "language": "python",
   "name": "python3"
  },
  "language_info": {
   "codemirror_mode": {
    "name": "ipython",
    "version": 3
   },
   "file_extension": ".py",
   "mimetype": "text/x-python",
   "name": "python",
   "nbconvert_exporter": "python",
   "pygments_lexer": "ipython3",
   "version": "3.10.9 | packaged by conda-forge | (main, Feb  2 2023, 20:26:08) [Clang 14.0.6 ]"
  },
  "vscode": {
   "interpreter": {
    "hash": "1cf45b2799b3af0fb91993f682f8afd3a376aad4af574bb2cc44432f4d140bf4"
   }
  }
 },
 "nbformat": 4,
 "nbformat_minor": 5
}
