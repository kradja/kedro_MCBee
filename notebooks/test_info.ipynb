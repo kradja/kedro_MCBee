{
 "cells": [
  {
   "cell_type": "code",
   "execution_count": 1,
   "metadata": {},
   "outputs": [],
   "source": [
    "import sys\n",
    "import numpy as np\n",
    "#import seaborn as sns\n",
    "#import matplotlib.pyplot as plt\n",
    "import random\n",
    "import pandas as pd\n",
    "import networkx as nx\n",
    "import json\n",
    "import itertools\n",
    "import pdb"
   ]
  },
  {
   "cell_type": "code",
<<<<<<< HEAD
<<<<<<< HEAD
<<<<<<< HEAD
   "execution_count": 10,
   "metadata": {},
   "outputs": [],
=======
=======
>>>>>>> b2019caae2df6f86a564393b1bf8bce0005ab092
=======
>>>>>>> origin
   "execution_count": 7,
   "metadata": {},
   "outputs": [],
   "source": [
    "data_prim = \"../data/03_primary/prokka_edges.csv\"\n",
    "data_gff_prokka = \"../data/02_intermediate/go_gff_prokka.csv\"\n",
    "data_networks = \"../data/04_feature\"\n",
    "prokka_edges = pd.read_csv(data_prim)\n",
    "# gff_prokka = pd.read_csv(data_gff_prokka)\n",
    "#[\"weight\", \"edge_length\", \"edge_scaf\", \"edge_annot\"],\n",
    "#with open(os.path.join(data_networks,'annot_graph.json'),'r') as fs_file:\n",
    "#    annot_graph = nx.node_link_graph(json.load(fs_file))"
   ]
  },
  {
   "cell_type": "code",
   "execution_count": 8,
   "metadata": {},
   "outputs": [
    {
     "name": "stdout",
     "output_type": "stream",
     "text": [
      "222181\n",
      "                  node1            node2\n",
      "222176  gNICNEPOM_00417  gJKDGBJBC_00459\n",
      "222177  gNICNEPOM_00417  gPIHFCAKN_01006\n",
      "222178  gCPFNGDDN_00657  gJKDGBJBC_00459\n",
      "222179  gCPFNGDDN_00657  gPIHFCAKN_01006\n",
      "222180  gJKDGBJBC_00459  gPIHFCAKN_01006\n"
     ]
    }
   ],
>>>>>>> b2019caae2df6f86a564393b1bf8bce0005ab092
   "source": [
    "print(len(prokka_edges))\n",
    "bin_nodes = prokka_edges[prokka_edges.node1.str[0] == 'b'].node1.tolist()\n",
    "tmp = prokka_edges[prokka_edges.node2.str[0] == 'b'].node2.tolist()\n",
    "bin_nodes.extend(tmp)\n",
    "print(prokka_edges.tail())"
   ]
  },
  {
   "cell_type": "code",
   "execution_count": 9,
   "metadata": {},
   "outputs": [
    {
     "name": "stdout",
     "output_type": "stream",
     "text": [
      "bhigh\n",
      "blow\n",
      "bcontrol\n"
     ]
    }
   ],
   "source": [
    "bin_mapping = {}\n",
    "for bins in set(bin_nodes):\n",
    "    bin_type = bins[:bins.rfind('.')]\n",
    "    if bin_type in bin_mapping:\n",
    "        bin_mapping[bin_type].append(bins)\n",
    "    else:\n",
    "        bin_mapping[bin_type] = [bins]\n",
    "tmp = []\n",
    "for bin_type in bin_mapping:\n",
    "    print(bin_type)\n",
    "    edges = itertools.combinations(bin_mapping[bin_type],2)\n",
    "    for edge in edges:\n",
    "        tmp.append(list(edge))\n",
    "#prokka_edges = pd.concat([prokka_edges,pd.DataFrame(tmp)])\n",
    "#tmp = pd.DataFrame(tmp)\n",
    "prokka_edges = pd.concat([prokka_edges,pd.DataFrame(tmp,columns = ['node1','node2'])])"
   ]
  },
  {
   "cell_type": "code",
   "execution_count": 11,
   "metadata": {},
   "outputs": [],
   "source": [
    "from torch_geometric.nn import GINConv, GCNConv, MetaPath2Vec, Node2Vec\n",
    "from torch.nn import Linear, BatchNorm1d, Sequential, ReLU\n",
    "from torch_geometric.nn import global_add_pool, global_mean_pool\n",
    "from torch_geometric.datasets import OGB_MAG\n",
    "import torch.nn.functional as F\n",
    "from torch_geometric.utils import to_scipy_sparse_matrix, from_networkx\n",
    "import torch"
   ]
  },
  {
   "cell_type": "code",
   "execution_count": 27,
   "metadata": {},
   "outputs": [
    {
     "name": "stdout",
     "output_type": "stream",
     "text": [
      "HeteroData(\n",
      "  \u001b[1mpaper\u001b[0m={\n",
      "    x=[736389, 128],\n",
      "    year=[736389],\n",
      "    y=[736389],\n",
      "    train_mask=[736389],\n",
      "    val_mask=[736389],\n",
      "    test_mask=[736389]\n",
      "  },\n",
      "  \u001b[1mauthor\u001b[0m={ x=[1134649, 128] },\n",
      "  \u001b[1minstitution\u001b[0m={ x=[8740, 128] },\n",
      "  \u001b[1mfield_of_study\u001b[0m={ x=[59965, 128] },\n",
      "  \u001b[1m(author, affiliated_with, institution)\u001b[0m={ edge_index=[2, 1043998] },\n",
      "  \u001b[1m(author, writes, paper)\u001b[0m={ edge_index=[2, 7145660] },\n",
      "  \u001b[1m(paper, cites, paper)\u001b[0m={ edge_index=[2, 5416271] },\n",
      "  \u001b[1m(paper, has_topic, field_of_study)\u001b[0m={ edge_index=[2, 7505078] }\n",
      ")\n"
     ]
    }
   ],
   "source": [
    "dataset = OGB_MAG(root='./data', preprocess='metapath2vec')\n",
    "data = dataset[0]\n",
    "print(data)"
   ]
  },
  {
   "cell_type": "code",
   "execution_count": 39,
   "metadata": {},
   "outputs": [
    {
     "name": "stdout",
     "output_type": "stream",
     "text": [
      "HeteroData(\n",
      "  \u001b[1mpaper\u001b[0m={\n",
      "    x=[736389, 128],\n",
      "    year=[736389],\n",
      "    y=[736389],\n",
      "    train_mask=[736389],\n",
      "    val_mask=[736389],\n",
      "    test_mask=[736389]\n",
      "  },\n",
      "  \u001b[1mauthor\u001b[0m={ num_nodes=1134649 },\n",
      "  \u001b[1minstitution\u001b[0m={ num_nodes=8740 },\n",
      "  \u001b[1mfield_of_study\u001b[0m={ num_nodes=59965 },\n",
      "  \u001b[1m(author, affiliated_with, institution)\u001b[0m={ edge_index=[2, 1043998] },\n",
      "  \u001b[1m(author, writes, paper)\u001b[0m={ edge_index=[2, 7145660] },\n",
      "  \u001b[1m(paper, cites, paper)\u001b[0m={ edge_index=[2, 5416271] },\n",
      "  \u001b[1m(paper, has_topic, field_of_study)\u001b[0m={ edge_index=[2, 7505078] }\n",
      ")\n",
      "['val_mask', 'y', 'test_mask', 'edge_index', 'x', 'year', 'num_nodes', 'train_mask']\n"
     ]
    },
    {
     "data": {
      "text/plain": [
       "torch_geometric.data.storage.NodeStorage"
      ]
     },
     "execution_count": 39,
     "metadata": {},
     "output_type": "execute_result"
    }
   ],
   "source": [
    "dataset2 = OGB_MAG(root='./data',preprocess=None)\n",
    "data2 = dataset2[0]\n",
    "print(data2)\n",
    "print(data2.keys)\n",
    "type(data2['(paper, cites, paper)'])"
   ]
  },
  {
   "cell_type": "code",
   "execution_count": 15,
   "metadata": {},
   "outputs": [
    {
     "data": {
      "text/plain": [
       "Data(edge_index=[2, 394832], num_nodes=32882)"
      ]
     },
     "execution_count": 15,
     "metadata": {},
     "output_type": "execute_result"
    }
   ],
   "source": [
    "G = nx.from_pandas_edgelist(prokka_edges,\"node1\",\"node2\")\n",
    "pyg_graph = from_networkx(G)\n",
    "pyg_graph\n",
    "#A = nx.to_scipy_sparse_array(G)\n",
    "#ed = G.edges()\n",
    "\n",
    "# res = [G.subgraph(x) for x in nx.connected_components(G)]\n",
    "#A = nx.to_scipy_sparse_array(G)\n",
    "#to_torch_csr_tensor(edge_index)\n",
    "\n",
    "#A = to_scipy_sparse_matrix(G)"
   ]
  },
  {
   "cell_type": "code",
   "execution_count": 19,
   "metadata": {},
   "outputs": [
    {
     "data": {
      "text/html": [
       "<div>\n",
       "<style scoped>\n",
       "    .dataframe tbody tr th:only-of-type {\n",
       "        vertical-align: middle;\n",
       "    }\n",
       "\n",
       "    .dataframe tbody tr th {\n",
       "        vertical-align: top;\n",
       "    }\n",
       "\n",
       "    .dataframe thead th {\n",
       "        text-align: right;\n",
       "    }\n",
       "</style>\n",
       "<table border=\"1\" class=\"dataframe\">\n",
       "  <thead>\n",
       "    <tr style=\"text-align: right;\">\n",
       "      <th></th>\n",
       "      <th>node1</th>\n",
       "      <th>node2</th>\n",
       "    </tr>\n",
       "  </thead>\n",
       "  <tbody>\n",
       "    <tr>\n",
       "      <th>0</th>\n",
       "      <td>bcontrol.008</td>\n",
       "      <td>gPFAMOPBP_00720</td>\n",
       "    </tr>\n",
       "    <tr>\n",
       "      <th>1</th>\n",
       "      <td>bcontrol.009</td>\n",
       "      <td>gCBFCJLLA_01006/gCBFCJLLA_01016</td>\n",
       "    </tr>\n",
       "    <tr>\n",
       "      <th>2</th>\n",
       "      <td>bcontrol.013</td>\n",
       "      <td>gLFGLNBED_00828/DDNACMFE_00403/APBJIOEJ_00108</td>\n",
       "    </tr>\n",
       "    <tr>\n",
       "      <th>3</th>\n",
       "      <td>bcontrol.015</td>\n",
       "      <td>gLFGNBLFH_03096/IJJIKKFE_00009</td>\n",
       "    </tr>\n",
       "    <tr>\n",
       "      <th>4</th>\n",
       "      <td>bhigh.005</td>\n",
       "      <td>gIAHGPBAK_00190</td>\n",
       "    </tr>\n",
       "  </tbody>\n",
       "</table>\n",
       "</div>"
      ],
      "text/plain": [
       "          node1                                          node2\n",
       "0  bcontrol.008                                gPFAMOPBP_00720\n",
       "1  bcontrol.009                gCBFCJLLA_01006/gCBFCJLLA_01016\n",
       "2  bcontrol.013  gLFGLNBED_00828/DDNACMFE_00403/APBJIOEJ_00108\n",
       "3  bcontrol.015                 gLFGNBLFH_03096/IJJIKKFE_00009\n",
       "4     bhigh.005                                gIAHGPBAK_00190"
      ]
     },
     "execution_count": 19,
     "metadata": {},
     "output_type": "execute_result"
    }
   ],
   "source": [
    "prokka_edges.head()"
   ]
  },
  {
   "cell_type": "code",
   "execution_count": 18,
   "metadata": {},
   "outputs": [
    {
     "name": "stdout",
     "output_type": "stream",
     "text": [
      "198572\n",
      "32882\n"
     ]
    },
    {
     "data": {
      "text/plain": [
       "<32882x32882 sparse array of type '<class 'numpy.int64'>'\n",
       "\twith 394832 stored elements in Compressed Sparse Row format>"
      ]
     },
     "execution_count": 18,
     "metadata": {},
     "output_type": "execute_result"
    }
   ],
   "source": [
    "#edd = [x for x in ed]\n",
    "#edd[130]\n",
    "print(G.size())\n",
    "print(G.order())\n",
    "A"
   ]
  },
  {
   "cell_type": "code",
   "execution_count": 10,
   "metadata": {},
   "outputs": [
    {
     "data": {
      "text/plain": [
       "torch_geometric.data.hetero_data.HeteroData"
      ]
     },
     "execution_count": 10,
     "metadata": {},
     "output_type": "execute_result"
    }
   ],
   "source": [
    "dataset = OGB_MAG(root='./data', preprocess='metapath2vec')\n",
    "type(dataset[0])"
   ]
  },
  {
   "cell_type": "code",
   "execution_count": 12,
   "metadata": {},
   "outputs": [],
   "source": [
    "#print(annot_graph.order())\n",
    "#print(annot_graph.size())\n",
    "#res = [\n",
    "#    annot_graph.subgraph(x) for x in sorted(nx.connected_components(annot_graph), key=len, reverse=True)\n",
    "#]\n",
    "#an = annot_graph.nodes()\n",
    "#nx.draw_networkx(annot_graph,pos=nx.spring_layout(annot_graph))\n",
    "#nx.draw_networkx(res[0],with_labels = False,node_size=100,node_shape=\".\") #pos=nx.spectral_layout(annot_graph)\n",
    "#plt.show()"
   ]
  },
  {
   "cell_type": "code",
   "execution_count": 4,
   "metadata": {},
   "outputs": [
    {
     "name": "stdout",
     "output_type": "stream",
     "text": [
      "271948\n",
      "36296\n"
     ]
    }
   ],
   "source": [
    "print(G.size())\n",
    "print(G.order())\n",
    "attrs = {k: {\"apiary\": v} for k, v in gff_prokka.level.items()}\n",
    "nx.set_node_attributes(G, attrs)\n",
    "res = [\n",
    "    G.subgraph(x) for x in sorted(nx.connected_components(G), key=len, reverse=True)\n",
    "]"
   ]
  },
  {
   "cell_type": "code",
   "execution_count": 14,
   "metadata": {},
   "outputs": [],
   "source": [
    "all_edge_data = set()\n",
    "for e in G.edges:\n",
    "    all_edge_data.update([G.get_edge_data(*e)['edge_annot']])"
   ]
  },
  {
   "cell_type": "code",
   "execution_count": 16,
   "metadata": {},
   "outputs": [
    {
     "name": "stdout",
     "output_type": "stream",
     "text": [
      "4281\n",
      "4281\n"
     ]
    }
   ],
   "source": [
    "print(len(all_edge_data))\n",
    "print(len(res))\n",
    "#tmp = [x for x in G.edges]\n",
    "#G.get_edge_data(*tmp[0])['edge_annot']"
   ]
  },
  {
   "cell_type": "code",
   "execution_count": 10,
   "metadata": {},
   "outputs": [
    {
     "name": "stdout",
     "output_type": "stream",
     "text": [
      "{'weight': -1, 'edge_length': 162.0, 'edge_scaf': nan, 'edge_annot': 'Q9RGG4'}\n",
      "{'P69831'}\n"
     ]
    }
   ],
   "source": [
    "edge_info = G.get_edge_data(*list(G.edges(res[40]))[0])\n",
    "print(edge_info)\n",
    "prokka_annot = set([G.get_edge_data(*x)[\"edge_annot\"] for x in list(res[4].edges(res[4]))])\n",
    "print(prokka_annot)"
   ]
  },
  {
   "cell_type": "code",
   "execution_count": null,
   "metadata": {},
   "outputs": [],
   "source": [
    "#hierarchy_go = \n",
    "#uni_go = \n",
    "#go_uni = "
   ]
  },
  {
   "cell_type": "code",
   "execution_count": 1,
   "metadata": {},
   "outputs": [],
   "source": [
    "#roots = [n for n, d in hierarchy_go.in_degree() if d == 0]\n",
    "#leafs = [n for n, d in hierarchy_go.out_degree() if d == 0]\n",
    "#annot_nogo = list(set(gff_prokka.annot) - set(uni_go))\n",
    "#go_list = go_uni.values()\n",
    "#flat_go_list = [i for subitem in go_list for i in subitem]\n",
    "#print(len(set(flat_go_list)))\n",
    "#edge_combos = [list(itertools.combinations(go_uni[x], 2)) for x in leafs]\n",
    "#res2 = [i for subitem in edge_combos for i in subitem]\n",
    "#annot_G = nx.from_edgelist(res2)"
   ]
  },
  {
   "cell_type": "code",
   "execution_count": 2,
   "metadata": {},
   "outputs": [
    {
     "data": {
      "image/png": "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",
      "text/plain": [
       "<Figure size 640x480 with 1 Axes>"
      ]
     },
     "metadata": {},
     "output_type": "display_data"
    }
   ],
   "source": [
    "random.seed(1)\n",
    "input_data = {\"heights\": np.random.normal(60,5,size=100)}\n",
    "height_array = np.array(input_data['heights'])\n",
    "sns.histplot(height_array,linewidth=0.5,edgecolor='blue') \n",
    "plt.show()"
   ]
  }
 ],
 "metadata": {
  "kernelspec": {
   "display_name": "deep",
   "language": "python",
   "name": "python3"
  },
  "language_info": {
   "codemirror_mode": {
    "name": "ipython",
    "version": 3
   },
   "file_extension": ".py",
   "mimetype": "text/x-python",
   "name": "python",
   "nbconvert_exporter": "python",
   "pygments_lexer": "ipython3",
   "version": "3.10.9"
  },
  "orig_nbformat": 4,
  "vscode": {
   "interpreter": {
    "hash": "1cf45b2799b3af0fb91993f682f8afd3a376aad4af574bb2cc44432f4d140bf4"
   }
  }
 },
 "nbformat": 4,
 "nbformat_minor": 2
}
