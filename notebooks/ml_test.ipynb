{
 "cells": [
  {
   "cell_type": "code",
   "execution_count": 1,
   "metadata": {},
   "outputs": [],
   "source": [
    "#import anc2vec\n",
    "#es = anc2vec.get_embeddings()\n",
    "#pip install -U \"anc2vec @ git+https://github.com/aedera/anc2vec.git\"\n",
    "#https://github.com/aedera/anc2vec"
   ]
  },
  {
   "cell_type": "code",
   "execution_count": 9,
   "metadata": {},
   "outputs": [],
   "source": [
    "import pandas as pd\n",
    "import pathlib\n",
    "import numpy as np\n",
    "from sklearn.preprocessing import OneHotEncoder"
   ]
  },
  {
   "cell_type": "code",
   "execution_count": 5,
   "metadata": {},
   "outputs": [],
   "source": [
    "input_file = pathlib.Path('../data/02_intermediate/updated2_gff_prokka.csv')\n",
    "df_x = pd.read_csv(input_file, sep=',')"
   ]
  },
  {
   "cell_type": "code",
   "execution_count": 11,
   "metadata": {},
   "outputs": [],
   "source": [
    "annot = df_x['annot'].values\n",
    "onehot_encoder = OneHotEncoder()\n",
    "onehot_annotations = onehot_encoder.fit_transform(annot.reshape(-1, 1))"
   ]
  },
  {
   "cell_type": "code",
   "execution_count": 16,
   "metadata": {},
   "outputs": [
    {
     "name": "stdout",
     "output_type": "stream",
     "text": [
      "(37489, 5474)\n",
      "37489\n",
      "5474\n"
     ]
    }
   ],
   "source": [
    "print(onehot_annotations.shape)\n",
    "print(len(df_x))\n",
    "print(len(set(df_x['annot'])))"
   ]
  },
  {
   "cell_type": "code",
   "execution_count": 20,
   "metadata": {},
   "outputs": [
    {
     "data": {
      "text/html": [
       "<div>\n",
       "<style scoped>\n",
       "    .dataframe tbody tr th:only-of-type {\n",
       "        vertical-align: middle;\n",
       "    }\n",
       "\n",
       "    .dataframe tbody tr th {\n",
       "        vertical-align: top;\n",
       "    }\n",
       "\n",
       "    .dataframe thead th {\n",
       "        text-align: right;\n",
       "    }\n",
       "</style>\n",
       "<table border=\"1\" class=\"dataframe\">\n",
       "  <thead>\n",
       "    <tr style=\"text-align: right;\">\n",
       "      <th></th>\n",
       "      <th>0</th>\n",
       "    </tr>\n",
       "  </thead>\n",
       "  <tbody>\n",
       "    <tr>\n",
       "      <th>0</th>\n",
       "      <td>GO_0003697</td>\n",
       "    </tr>\n",
       "    <tr>\n",
       "      <th>1</th>\n",
       "      <td>GO_0042802,GO_0016887,GO_0005524,GO_0004386,GO...</td>\n",
       "    </tr>\n",
       "    <tr>\n",
       "      <th>2</th>\n",
       "      <td>GO_0003796</td>\n",
       "    </tr>\n",
       "    <tr>\n",
       "      <th>3</th>\n",
       "      <td>NaN</td>\n",
       "    </tr>\n",
       "    <tr>\n",
       "      <th>4</th>\n",
       "      <td>GO_0003796</td>\n",
       "    </tr>\n",
       "    <tr>\n",
       "      <th>...</th>\n",
       "      <td>...</td>\n",
       "    </tr>\n",
       "    <tr>\n",
       "      <th>37484</th>\n",
       "      <td>GO_0004719</td>\n",
       "    </tr>\n",
       "    <tr>\n",
       "      <th>37485</th>\n",
       "      <td>GO_0003677,GO_0034335,GO_0005524</td>\n",
       "    </tr>\n",
       "    <tr>\n",
       "      <th>37486</th>\n",
       "      <td>GO_0042910,GO_0042802,GO_0015199,GO_0015220,GO...</td>\n",
       "    </tr>\n",
       "    <tr>\n",
       "      <th>37487</th>\n",
       "      <td>GO_0004634,GO_0042802,GO_0042803,GO_0000287</td>\n",
       "    </tr>\n",
       "    <tr>\n",
       "      <th>37488</th>\n",
       "      <td>GO_0046872,GO_0016787</td>\n",
       "    </tr>\n",
       "  </tbody>\n",
       "</table>\n",
       "<p>37489 rows × 1 columns</p>\n",
       "</div>"
      ],
      "text/plain": [
       "                                                       0\n",
       "0                                             GO_0003697\n",
       "1      GO_0042802,GO_0016887,GO_0005524,GO_0004386,GO...\n",
       "2                                             GO_0003796\n",
       "3                                                    NaN\n",
       "4                                             GO_0003796\n",
       "...                                                  ...\n",
       "37484                                         GO_0004719\n",
       "37485                   GO_0003677,GO_0034335,GO_0005524\n",
       "37486  GO_0042910,GO_0042802,GO_0015199,GO_0015220,GO...\n",
       "37487        GO_0004634,GO_0042802,GO_0042803,GO_0000287\n",
       "37488                              GO_0046872,GO_0016787\n",
       "\n",
       "[37489 rows x 1 columns]"
      ]
     },
     "execution_count": 20,
     "metadata": {},
     "output_type": "execute_result"
    }
   ],
   "source": [
    "df_x.go.str.split('|', expand=True)"
   ]
  }
 ],
 "metadata": {
  "kernelspec": {
   "display_name": "kedro_mcbee",
   "language": "python",
   "name": "python3"
  },
  "language_info": {
   "codemirror_mode": {
    "name": "ipython",
    "version": 3
   },
   "file_extension": ".py",
   "mimetype": "text/x-python",
   "name": "python",
   "nbconvert_exporter": "python",
   "pygments_lexer": "ipython3",
   "version": "3.11.0"
  }
 },
 "nbformat": 4,
 "nbformat_minor": 2
}
